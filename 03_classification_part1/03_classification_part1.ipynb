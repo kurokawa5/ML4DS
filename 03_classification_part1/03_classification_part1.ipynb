{
  "nbformat": 4,
  "nbformat_minor": 0,
  "metadata": {
    "colab": {
      "provenance": [],
      "mount_file_id": "10ZGuvPWJ8C1z1wLzCGY4ApgiEA0BaxJW",
      "authorship_tag": "ABX9TyOp4wyRtXiWQtm0sa435m6i",
      "include_colab_link": true
    },
    "kernelspec": {
      "name": "python3",
      "display_name": "Python 3"
    },
    "language_info": {
      "name": "python"
    }
  },
  "cells": [
    {
      "cell_type": "markdown",
      "metadata": {
        "id": "view-in-github",
        "colab_type": "text"
      },
      "source": [
        "<a href=\"https://colab.research.google.com/github/kurokawa5/ML4DS/blob/main/03_classification_part1/03_classification_part1.ipynb\" target=\"_parent\"><img src=\"https://colab.research.google.com/assets/colab-badge.svg\" alt=\"Open In Colab\"/></a>"
      ]
    },
    {
      "cell_type": "markdown",
      "source": [
        "### Task 1: K - Nearest Neighbours"
      ],
      "metadata": {
        "id": "qGTM8iXb4DKz"
      }
    },
    {
      "cell_type": "markdown",
      "source": [
        "#### Task 1.1: Import and load the data:"
      ],
      "metadata": {
        "id": "ShYS4ngA0Z0G"
      }
    },
    {
      "cell_type": "code",
      "source": [
        "from google.colab import drive\n",
        "drive.mount('/content/drive')"
      ],
      "metadata": {
        "colab": {
          "base_uri": "https://localhost:8080/"
        },
        "id": "1UIRz7YP0pS-",
        "outputId": "06562bfe-12a1-41bf-b36b-8e3d5c6f3907"
      },
      "execution_count": 2,
      "outputs": [
        {
          "output_type": "stream",
          "name": "stdout",
          "text": [
            "Drive already mounted at /content/drive; to attempt to forcibly remount, call drive.mount(\"/content/drive\", force_remount=True).\n"
          ]
        }
      ]
    },
    {
      "cell_type": "code",
      "execution_count": 1,
      "metadata": {
        "id": "LRbDk0Mwv-Qz"
      },
      "outputs": [],
      "source": [
        "import numpy as np\n",
        "%matplotlib inline\n",
        "import pylab as plt\n",
        "from matplotlib.colors import ListedColormap\n",
        "\n",
        "# Create color maps\n",
        "cmap_light = ListedColormap(['#FFAAAA', '#AAFFAA', '#AAAAFF'])\n",
        "cmap_bold = ListedColormap(['#FF0000', '#00FF00', '#0000FF'])\n"
      ]
    },
    {
      "cell_type": "code",
      "source": [
        "data = np.loadtxt('/content/drive/MyDrive/05_workspace/09_ml4ds/03_classification_part1/orange_lemon.txt', delimiter=',') # load fruit data\n",
        "data"
      ],
      "metadata": {
        "colab": {
          "base_uri": "https://localhost:8080/"
        },
        "id": "ogIrVZ1fyfvg",
        "outputId": "e2a38702-fbb0-45ea-92bc-d57c8cbb1e25"
      },
      "execution_count": 11,
      "outputs": [
        {
          "output_type": "execute_result",
          "data": {
            "text/plain": [
              "array([[ 0. ,  6.2,  4.7],\n",
              "       [ 0. ,  6. ,  4.6],\n",
              "       [ 0. ,  5.8,  4.3],\n",
              "       [ 0. ,  5.9,  4.3],\n",
              "       [ 0. ,  5.8,  4. ],\n",
              "       [ 0. ,  9. ,  9.4],\n",
              "       [ 0. ,  9.2,  9.2],\n",
              "       [ 0. ,  9.6,  9.2],\n",
              "       [ 0. ,  7.5,  9.2],\n",
              "       [ 0. ,  6.7,  7.1],\n",
              "       [ 0. ,  7. ,  7.4],\n",
              "       [ 0. ,  7.1,  7.5],\n",
              "       [ 0. ,  7.8,  8. ],\n",
              "       [ 0. ,  7.2,  7. ],\n",
              "       [ 0. ,  7.5,  8.1],\n",
              "       [ 0. ,  7.6,  7.8],\n",
              "       [ 0. ,  7.1,  7.9],\n",
              "       [ 0. ,  7.1,  7.6],\n",
              "       [ 0. ,  7.3,  7.3],\n",
              "       [ 0. ,  7.2,  7.8],\n",
              "       [ 0. ,  6.8,  7.4],\n",
              "       [ 0. ,  7.1,  7.5],\n",
              "       [ 0. ,  7.6,  8.2],\n",
              "       [ 0. ,  7.2,  7.2],\n",
              "       [ 1. ,  7.2, 10.3],\n",
              "       [ 1. ,  7.3, 10.5],\n",
              "       [ 1. ,  7.2,  9.2],\n",
              "       [ 1. ,  7.3, 10.2],\n",
              "       [ 1. ,  7.3,  9.7],\n",
              "       [ 1. ,  7.3, 10.1],\n",
              "       [ 1. ,  5.8,  8.7],\n",
              "       [ 1. ,  6. ,  8.2],\n",
              "       [ 1. ,  6. ,  7.5],\n",
              "       [ 1. ,  5.9,  8. ],\n",
              "       [ 1. ,  6. ,  8.4],\n",
              "       [ 1. ,  6.1,  8.5],\n",
              "       [ 1. ,  6.3,  7.7],\n",
              "       [ 1. ,  5.9,  8.1],\n",
              "       [ 1. ,  6.5,  8.5],\n",
              "       [ 1. ,  6.1,  8.1]])"
            ]
          },
          "metadata": {},
          "execution_count": 11
        }
      ]
    },
    {
      "cell_type": "code",
      "source": [
        "data.shape"
      ],
      "metadata": {
        "colab": {
          "base_uri": "https://localhost:8080/"
        },
        "id": "JmjyqCa2-OHc",
        "outputId": "357f37bf-2903-4142-f13a-08847411aaa9"
      },
      "execution_count": 22,
      "outputs": [
        {
          "output_type": "execute_result",
          "data": {
            "text/plain": [
              "(40, 3)"
            ]
          },
          "metadata": {},
          "execution_count": 22
        }
      ]
    },
    {
      "cell_type": "code",
      "source": [
        "X = data[:,1:3]\n",
        "t = data[:,0]\n",
        "plt.scatter(X[:, 0], X[:, 1], c=t, cmap=cmap_bold, edgecolor='k', s=100)\n",
        "plt.xlabel('Width')\n",
        "plt.ylabel('Height')"
      ],
      "metadata": {
        "colab": {
          "base_uri": "https://localhost:8080/",
          "height": 296
        },
        "id": "YP5nKCW63yAt",
        "outputId": "c7bf1b58-44b5-4a8d-b435-3614e416915c"
      },
      "execution_count": 23,
      "outputs": [
        {
          "output_type": "execute_result",
          "data": {
            "text/plain": [
              "Text(0, 0.5, 'Height')"
            ]
          },
          "metadata": {},
          "execution_count": 23
        },
        {
          "output_type": "display_data",
          "data": {
            "text/plain": [
              "<Figure size 432x288 with 1 Axes>"
            ],
            "image/png": "[encoded data removed]"
          },
          "metadata": {
            "needs_background": "light"
          }
        }
      ]
    },
    {
      "cell_type": "markdown",
      "source": [
        "#### Task 1.2: Use K-NN to classify orange and lemon data."
      ],
      "metadata": {
        "id": "5jvgo9dJ4Jvz"
      }
    },
    {
      "cell_type": "code",
      "source": [
        "# Plot the decision boundary. For that, we will assign a color to each\n",
        "# point in the mesh [x_min, x_max]x[y_min, y_max].\n",
        "h = .02\n",
        "# 領域の最大最小値\n",
        "x_min, x_max = X[:, 0].min() - 1, X[:, 0].max() + 1\n",
        "y_min, y_max = X[:, 1].min() - 1, X[:, 1].max() + 1\n",
        "xx, yy = np.meshgrid(np.arange(x_min, x_max, h),\n",
        "                     np.arange(y_min, y_max, h))\n",
        "xx.shape"
      ],
      "metadata": {
        "colab": {
          "base_uri": "https://localhost:8080/"
        },
        "id": "FfKCeQhK1SWP",
        "outputId": "9598533c-a502-4aec-9259-f65d6cb22a24"
      },
      "execution_count": 21,
      "outputs": [
        {
          "output_type": "execute_result",
          "data": {
            "text/plain": [
              "(425, 290)"
            ]
          },
          "metadata": {},
          "execution_count": 21
        }
      ]
    },
    {
      "cell_type": "code",
      "source": [
        "X[:, 0].min() - 1\n",
        "\n"
      ],
      "metadata": {
        "colab": {
          "base_uri": "https://localhost:8080/"
        },
        "id": "b7tmaaFY-iJG",
        "outputId": "92a39d38-4e30-4b6f-bcae-6e2d5f1a0061"
      },
      "execution_count": 27,
      "outputs": [
        {
          "output_type": "execute_result",
          "data": {
            "text/plain": [
              "4.8"
            ]
          },
          "metadata": {},
          "execution_count": 27
        }
      ]
    },
    {
      "cell_type": "code",
      "source": [],
      "metadata": {
        "id": "9Cb-2FLu-lpR"
      },
      "execution_count": null,
      "outputs": []
    },
    {
      "cell_type": "code",
      "source": [
        "np.arange(x_min, x_max, h)"
      ],
      "metadata": {
        "colab": {
          "base_uri": "https://localhost:8080/"
        },
        "id": "Qu4QbXne-VIF",
        "outputId": "8669a5bf-89f3-45a9-d8ee-136aa6202cf9"
      },
      "execution_count": 26,
      "outputs": [
        {
          "output_type": "execute_result",
          "data": {
            "text/plain": [
              "array([ 4.8 ,  4.82,  4.84,  4.86,  4.88,  4.9 ,  4.92,  4.94,  4.96,\n",
              "        4.98,  5.  ,  5.02,  5.04,  5.06,  5.08,  5.1 ,  5.12,  5.14,\n",
              "        5.16,  5.18,  5.2 ,  5.22,  5.24,  5.26,  5.28,  5.3 ,  5.32,\n",
              "        5.34,  5.36,  5.38,  5.4 ,  5.42,  5.44,  5.46,  5.48,  5.5 ,\n",
              "        5.52,  5.54,  5.56,  5.58,  5.6 ,  5.62,  5.64,  5.66,  5.68,\n",
              "        5.7 ,  5.72,  5.74,  5.76,  5.78,  5.8 ,  5.82,  5.84,  5.86,\n",
              "        5.88,  5.9 ,  5.92,  5.94,  5.96,  5.98,  6.  ,  6.02,  6.04,\n",
              "        6.06,  6.08,  6.1 ,  6.12,  6.14,  6.16,  6.18,  6.2 ,  6.22,\n",
              "        6.24,  6.26,  6.28,  6.3 ,  6.32,  6.34,  6.36,  6.38,  6.4 ,\n",
              "        6.42,  6.44,  6.46,  6.48,  6.5 ,  6.52,  6.54,  6.56,  6.58,\n",
              "        6.6 ,  6.62,  6.64,  6.66,  6.68,  6.7 ,  6.72,  6.74,  6.76,\n",
              "        6.78,  6.8 ,  6.82,  6.84,  6.86,  6.88,  6.9 ,  6.92,  6.94,\n",
              "        6.96,  6.98,  7.  ,  7.02,  7.04,  7.06,  7.08,  7.1 ,  7.12,\n",
              "        7.14,  7.16,  7.18,  7.2 ,  7.22,  7.24,  7.26,  7.28,  7.3 ,\n",
              "        7.32,  7.34,  7.36,  7.38,  7.4 ,  7.42,  7.44,  7.46,  7.48,\n",
              "        7.5 ,  7.52,  7.54,  7.56,  7.58,  7.6 ,  7.62,  7.64,  7.66,\n",
              "        7.68,  7.7 ,  7.72,  7.74,  7.76,  7.78,  7.8 ,  7.82,  7.84,\n",
              "        7.86,  7.88,  7.9 ,  7.92,  7.94,  7.96,  7.98,  8.  ,  8.02,\n",
              "        8.04,  8.06,  8.08,  8.1 ,  8.12,  8.14,  8.16,  8.18,  8.2 ,\n",
              "        8.22,  8.24,  8.26,  8.28,  8.3 ,  8.32,  8.34,  8.36,  8.38,\n",
              "        8.4 ,  8.42,  8.44,  8.46,  8.48,  8.5 ,  8.52,  8.54,  8.56,\n",
              "        8.58,  8.6 ,  8.62,  8.64,  8.66,  8.68,  8.7 ,  8.72,  8.74,\n",
              "        8.76,  8.78,  8.8 ,  8.82,  8.84,  8.86,  8.88,  8.9 ,  8.92,\n",
              "        8.94,  8.96,  8.98,  9.  ,  9.02,  9.04,  9.06,  9.08,  9.1 ,\n",
              "        9.12,  9.14,  9.16,  9.18,  9.2 ,  9.22,  9.24,  9.26,  9.28,\n",
              "        9.3 ,  9.32,  9.34,  9.36,  9.38,  9.4 ,  9.42,  9.44,  9.46,\n",
              "        9.48,  9.5 ,  9.52,  9.54,  9.56,  9.58,  9.6 ,  9.62,  9.64,\n",
              "        9.66,  9.68,  9.7 ,  9.72,  9.74,  9.76,  9.78,  9.8 ,  9.82,\n",
              "        9.84,  9.86,  9.88,  9.9 ,  9.92,  9.94,  9.96,  9.98, 10.  ,\n",
              "       10.02, 10.04, 10.06, 10.08, 10.1 , 10.12, 10.14, 10.16, 10.18,\n",
              "       10.2 , 10.22, 10.24, 10.26, 10.28, 10.3 , 10.32, 10.34, 10.36,\n",
              "       10.38, 10.4 , 10.42, 10.44, 10.46, 10.48, 10.5 , 10.52, 10.54,\n",
              "       10.56, 10.58])"
            ]
          },
          "metadata": {},
          "execution_count": 26
        }
      ]
    },
    {
      "cell_type": "code",
      "source": [
        "\n",
        "from sklearn.neighbors import KNeighborsClassifier\n",
        "from sklearn.model_selection import cross_val_score\n",
        "\n",
        "n_neighbors = 11\n",
        "clf = KNeighborsClassifier(n_neighbors)\n",
        "clf.fit(X, t)\n",
        "Z = clf.predict(np.c_[xx.ravel(), yy.ravel()])\n",
        "# Put the result into a color plot\n",
        "Z = Z.reshape(xx.shape)\n",
        "plt.pcolormesh(xx, yy, Z, cmap=cmap_light)\n",
        "# Plot also the training points\n",
        "plt.scatter(X[:, 0], X[:, 1], c=t, cmap=cmap_bold,\n",
        "            edgecolor='k', s=100)\n",
        "plt.xlim(xx.min(), xx.max())\n",
        "plt.ylim(yy.min(), yy.max())\n",
        "plt.title(\"KNN (k = %i)\"\n",
        "          % (n_neighbors))"
      ],
      "metadata": {
        "colab": {
          "base_uri": "https://localhost:8080/",
          "height": 298
        },
        "id": "5Qy8d5Gj1ksq",
        "outputId": "41430248-0cee-44da-fd95-a63c3813700d"
      },
      "execution_count": 19,
      "outputs": [
        {
          "output_type": "execute_result",
          "data": {
            "text/plain": [
              "Text(0.5, 1.0, 'KNN (k = 11)')"
            ]
          },
          "metadata": {},
          "execution_count": 19
        },
        {
          "output_type": "display_data",
          "data": {
            "text/plain": [
              "<Figure size 432x288 with 1 Axes>"
            ],
            "image/png": "[encoded data removed]"
          },
          "metadata": {
            "needs_background": "light"
          }
        }
      ]
    },
    {
      "cell_type": "code",
      "source": [
        "cv_scores = []\n",
        "for i in range(1,30,1):\n",
        "    knn_cv = KNeighborsClassifier(n_neighbors=i)\n",
        "    cv_scores.append(1-np.mean(cross_val_score(knn_cv, X, t, cv=5)))\n",
        "    \n",
        "plt.plot(np.arange(1,30,1),cv_scores)\n",
        "plt.xlabel('Number of neighbors')\n",
        "plt.ylabel('Average CV error')\n",
        "print(np.min(cv_scores))"
      ],
      "metadata": {
        "id": "AiE9143Q1rP5"
      },
      "execution_count": null,
      "outputs": []
    },
    {
      "cell_type": "code",
      "source": [
        "n_neighbors = 40\n",
        "clf = KNeighborsClassifier(n_neighbors)\n",
        "clf.fit(X, t)\n",
        "Z = clf.predict(np.c_[xx.ravel(), yy.ravel()])\n",
        "# Put the result into a color plot\n",
        "Z = Z.reshape(xx.shape)\n",
        "plt.pcolormesh(xx, yy, Z, cmap=cmap_light)\n",
        "# Plot also the training points\n",
        "plt.scatter(X[:, 0], X[:, 1], c=t, cmap=cmap_bold,\n",
        "            edgecolor='k', s=100)\n",
        "plt.xlim(xx.min(), xx.max())\n",
        "plt.ylim(yy.min(), yy.max())\n",
        "plt.title(\"KNN (k = %i)\"\n",
        "          % (n_neighbors))"
      ],
      "metadata": {
        "id": "N9TjQ0Z81tWG"
      },
      "execution_count": null,
      "outputs": []
    },
    {
      "cell_type": "code",
      "source": [
        "n_neighbors = 40\n",
        "clf = KNeighborsClassifier(n_neighbors, weights=\"distance\")\n",
        "clf.fit(X, t)\n",
        "Z = clf.predict(np.c_[xx.ravel(), yy.ravel()])\n",
        "# Put the result into a color plot\n",
        "Z = Z.reshape(xx.shape)\n",
        "plt.pcolormesh(xx, yy, Z, cmap=cmap_light)\n",
        "# Plot also the training points\n",
        "plt.scatter(X[:, 0], X[:, 1], c=t, cmap=cmap_bold,\n",
        "            edgecolor='k', s=100)\n",
        "plt.xlim(xx.min(), xx.max())\n",
        "plt.ylim(yy.min(), yy.max())\n",
        "plt.title(\"KNN (k = %i)\" % (n_neighbors))"
      ],
      "metadata": {
        "id": "DzZ9Iugf1xRB"
      },
      "execution_count": null,
      "outputs": []
    }
  ]
}