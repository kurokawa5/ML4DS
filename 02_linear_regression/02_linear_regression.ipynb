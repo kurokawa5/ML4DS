{
  "nbformat": 4,
  "nbformat_minor": 0,
  "metadata": {
    "colab": {
      "provenance": [],
      "authorship_tag": "ABX9TyPPlGEgDv/ejNPV9BNKcInQ",
      "include_colab_link": true
    },
    "kernelspec": {
      "name": "python3",
      "display_name": "Python 3"
    },
    "language_info": {
      "name": "python"
    }
  },
  "cells": [
    {
      "cell_type": "markdown",
      "metadata": {
        "id": "view-in-github",
        "colab_type": "text"
      },
      "source": [
        "<a href=\"https://colab.research.google.com/github/kurokawa5/ML4DS/blob/main/02_linear_regression/02_linear_regression.ipynb\" target=\"_parent\"><img src=\"https://colab.research.google.com/assets/colab-badge.svg\" alt=\"Open In Colab\"/></a>"
      ]
    },
    {
      "cell_type": "code",
      "execution_count": 1,
      "metadata": {
        "colab": {
          "base_uri": "https://localhost:8080/"
        },
        "id": "sHT3sxkasN-z",
        "outputId": "0400f38b-275b-43d3-a203-9a222bb8a0e3"
      },
      "outputs": [
        {
          "output_type": "stream",
          "name": "stdout",
          "text": [
            "Mounted at /content/drive\n"
          ]
        }
      ],
      "source": [
        "from google.colab import drive\n",
        "drive.mount('/content/drive')"
      ]
    },
    {
      "cell_type": "code",
      "source": [
        "import numpy as np \n",
        "%matplotlib inline\n",
        "import pylab as plt\n",
        "\n",
        "data = np.loadtxt('/content/drive/MyDrive/05_workspace/09_ml4ds/02_linear_regression/olympic100m.txt', delimiter=',') # make sure olympic100m.txt is in the right folder\n",
        "x = data[:,0][:,None] # make x a matrix\n",
        "t = data[:,1][:,None] # make t a column vector "
      ],
      "metadata": {
        "id": "2YVt-K-xsTwe"
      },
      "execution_count": 2,
      "outputs": []
    },
    {
      "cell_type": "code",
      "source": [
        "x.shape"
      ],
      "metadata": {
        "colab": {
          "base_uri": "https://localhost:8080/"
        },
        "id": "6G9xm6rozBHa",
        "outputId": "094ec9bd-1f82-495b-8e48-59dcb68ddd19"
      },
      "execution_count": 20,
      "outputs": [
        {
          "output_type": "execute_result",
          "data": {
            "text/plain": [
              "(27, 1)"
            ]
          },
          "metadata": {},
          "execution_count": 20
        }
      ]
    },
    {
      "cell_type": "code",
      "source": [
        "t.shape"
      ],
      "metadata": {
        "colab": {
          "base_uri": "https://localhost:8080/"
        },
        "id": "ZkHUse-WzLkd",
        "outputId": "710ec4cb-4ea3-438e-859e-f4b62f89b839"
      },
      "execution_count": 24,
      "outputs": [
        {
          "output_type": "execute_result",
          "data": {
            "text/plain": [
              "(27, 1)"
            ]
          },
          "metadata": {},
          "execution_count": 24
        }
      ]
    },
    {
      "cell_type": "code",
      "source": [
        "def transform(x):\n",
        "    return (x-np.mean(x))/np.std(x) "
      ],
      "metadata": {
        "id": "3Miff_bfsRI7"
      },
      "execution_count": 23,
      "outputs": []
    },
    {
      "cell_type": "code",
      "source": [
        "# Test both options\n",
        "x = transform(x) # rescale x here\n",
        "plt.plot(x, t, 'ro')\n",
        "plt.xlabel('Rescaled years')\n",
        "plt.ylabel('Time (seconds)')"
      ],
      "metadata": {
        "colab": {
          "base_uri": "https://localhost:8080/",
          "height": 296
        },
        "id": "XIh06lg0tHgV",
        "outputId": "cf11c6f8-cb35-42b7-8a70-e1f4658f0cae"
      },
      "execution_count": 5,
      "outputs": [
        {
          "output_type": "execute_result",
          "data": {
            "text/plain": [
              "Text(0, 0.5, 'Time (seconds)')"
            ]
          },
          "metadata": {},
          "execution_count": 5
        },
        {
          "output_type": "display_data",
          "data": {
            "text/plain": [
              "<Figure size 432x288 with 1 Axes>"
            ],
            "image/png": "[encoded data removed]"
          },
          "metadata": {
            "needs_background": "light"
          }
        }
      ]
    },
    {
      "cell_type": "code",
      "source": [
        "def make_polynomial(x, maxorder): # The np.hstack function can be very helpful\n",
        "    X = np.ones_like(x) \n",
        "    for i in range(1,maxorder+1):\n",
        "        X = np.hstack((X,x**i))\n",
        "    return(X) "
      ],
      "metadata": {
        "id": "bmiA0iHMthOD"
      },
      "execution_count": 13,
      "outputs": []
    },
    {
      "cell_type": "code",
      "source": [
        "poly_order = 9\n",
        "X_train = make_polynomial(x, poly_order) "
      ],
      "metadata": {
        "id": "UEt72WhZyZhD"
      },
      "execution_count": 14,
      "outputs": []
    },
    {
      "cell_type": "code",
      "source": [
        "X_train.shape"
      ],
      "metadata": {
        "colab": {
          "base_uri": "https://localhost:8080/"
        },
        "id": "TLAItbAWybkI",
        "outputId": "466ea4e1-3cc2-4a4a-efb0-e242f7b986a6"
      },
      "execution_count": 17,
      "outputs": [
        {
          "output_type": "execute_result",
          "data": {
            "text/plain": [
              "(27, 10)"
            ]
          },
          "metadata": {},
          "execution_count": 17
        }
      ]
    },
    {
      "cell_type": "code",
      "source": [
        "X_train"
      ],
      "metadata": {
        "colab": {
          "base_uri": "https://localhost:8080/"
        },
        "id": "E3q7rxlQydD_",
        "outputId": "6a72e201-ec75-497b-876d-d7171a73dc76"
      },
      "execution_count": 18,
      "outputs": [
        {
          "output_type": "execute_result",
          "data": {
            "text/plain": [
              "array([[ 1.00000000e+00, -1.61025838e+00,  2.59293204e+00,\n",
              "        -4.17529054e+00,  6.72329658e+00, -1.08262446e+01,\n",
              "         1.74330511e+01, -2.80717166e+01,  4.52027169e+01,\n",
              "        -7.27880535e+01],\n",
              "       [ 1.00000000e+00, -1.49599563e+00,  2.23800292e+00,\n",
              "        -3.34804258e+00,  5.00865707e+00, -7.49292907e+00,\n",
              "         1.12093891e+01, -1.67691971e+01,  2.50866456e+01,\n",
              "        -3.75295122e+01],\n",
              "       [ 1.00000000e+00, -1.38173288e+00,  1.90918575e+00,\n",
              "        -2.63798472e+00,  3.64499022e+00, -5.03640283e+00,\n",
              "         6.95896338e+00, -9.61542850e+00,  1.32859537e+01,\n",
              "        -1.83576390e+01],\n",
              "       [ 1.00000000e+00, -1.32460150e+00,  1.75456914e+00,\n",
              "        -2.32410493e+00,  3.07851288e+00, -4.07780279e+00,\n",
              "         5.40146371e+00, -7.15478695e+00,  9.47724156e+00,\n",
              "        -1.25535684e+01],\n",
              "       [ 1.00000000e+00, -1.26747013e+00,  1.60648053e+00,\n",
              "        -2.03616608e+00,  2.58077969e+00, -3.27106116e+00,\n",
              "         4.14597231e+00, -5.25489606e+00,  6.66042379e+00,\n",
              "        -8.44188820e+00],\n",
              "       [ 1.00000000e+00, -1.15320738e+00,  1.32988726e+00,\n",
              "        -1.53363580e+00,  1.76860012e+00, -2.03956272e+00,\n",
              "         2.35203877e+00, -2.71238847e+00,  3.12794640e+00,\n",
              "        -3.60717087e+00],\n",
              "       [ 1.00000000e+00, -9.24681880e-01,  8.55036580e-01,\n",
              "        -7.90636833e-01,  7.31087553e-01, -6.76023413e-01,\n",
              "         6.25106601e-01, -5.78024747e-01,  5.34489010e-01,\n",
              "        -4.94232303e-01],\n",
              "       [ 1.00000000e+00, -8.10419131e-01,  6.56779168e-01,\n",
              "        -5.32266402e-01,  4.31358875e-01, -3.49581485e-01,\n",
              "         2.83307523e-01, -2.29597837e-01,  1.86070479e-01,\n",
              "        -1.50795076e-01],\n",
              "       [ 1.00000000e+00, -6.96156381e-01,  4.84633707e-01,\n",
              "        -3.37380848e-01,  2.34869830e-01, -1.63506131e-01,\n",
              "         1.13825837e-01, -7.92405825e-02,  5.51638372e-02,\n",
              "        -3.84026573e-02],\n",
              "       [ 1.00000000e+00, -5.81893632e-01,  3.38600199e-01,\n",
              "        -1.97029299e-01,  1.14650095e-01, -6.67141600e-02,\n",
              "         3.88205448e-02, -2.25894278e-02,  1.31446442e-02,\n",
              "        -7.64878475e-03],\n",
              "       [ 1.00000000e+00, -4.67630882e-01,  2.18678642e-01,\n",
              "        -1.02260886e-01,  4.78203485e-02, -2.23622718e-02,\n",
              "         1.04572889e-02, -4.89015122e-03,  2.28678573e-03,\n",
              "        -1.06937163e-03],\n",
              "       [ 1.00000000e+00, -1.24842634e-01,  1.55856832e-02,\n",
              "        -1.94575774e-03,  2.42913521e-04, -3.03259637e-05,\n",
              "         3.78597318e-06, -4.72650863e-07,  5.90069786e-08,\n",
              "        -7.36658662e-09],\n",
              "       [ 1.00000000e+00, -1.05798842e-02,  1.11933950e-04,\n",
              "        -1.18424823e-06,  1.25292092e-08, -1.32557582e-10,\n",
              "         1.40244387e-12, -1.48376938e-14,  1.56981082e-16,\n",
              "        -1.66084168e-18],\n",
              "       [ 1.00000000e+00,  1.03682865e-01,  1.07501366e-02,\n",
              "         1.11460496e-03,  1.15565436e-04,  1.19821555e-05,\n",
              "         1.24234422e-06,  1.28809808e-07,  1.33553700e-08,\n",
              "         1.38472303e-09],\n",
              "       [ 1.00000000e+00,  2.17945615e-01,  4.75002910e-02,\n",
              "         1.03524801e-02,  2.25627765e-03,  4.91745819e-04,\n",
              "         1.07173845e-04,  2.33580695e-05,  5.09078882e-06,\n",
              "         1.10951510e-06],\n",
              "       [ 1.00000000e+00,  3.32208364e-01,  1.10362397e-01,\n",
              "         3.66633115e-02,  1.21798588e-02,  4.04625095e-03,\n",
              "         1.34419841e-03,  4.46553956e-04,  1.48348959e-04,\n",
              "         4.92827651e-05],\n",
              "       [ 1.00000000e+00,  4.46471114e-01,  1.99336456e-01,\n",
              "         8.89979693e-02,  3.97350225e-02,  1.77405398e-02,\n",
              "         7.92063855e-03,  3.53633632e-03,  1.57887201e-03,\n",
              "         7.04920747e-04],\n",
              "       [ 1.00000000e+00,  5.60733863e-01,  3.14422466e-01,\n",
              "         1.76307324e-01,  9.88614869e-02,  5.54349835e-02,\n",
              "         3.10842725e-02,  1.74300042e-02,  9.77359359e-03,\n",
              "         5.48038489e-03],\n",
              "       [ 1.00000000e+00,  6.74996613e-01,  4.55620427e-01,\n",
              "         3.07542245e-01,  2.07589974e-01,  1.40122529e-01,\n",
              "         9.45822327e-02,  6.38426867e-02,  4.30935973e-02,\n",
              "         2.90880322e-02],\n",
              "       [ 1.00000000e+00,  7.89259362e-01,  6.22930341e-01,\n",
              "         4.91653604e-01,  3.88042210e-01,  3.06265947e-01,\n",
              "         2.41723266e-01,  1.90782351e-01,  1.50576757e-01,\n",
              "         1.18844115e-01],\n",
              "       [ 1.00000000e+00,  9.03522112e-01,  8.16352207e-01,\n",
              "         7.37592270e-01,  6.66430926e-01,  6.02135077e-01,\n",
              "         5.44042357e-01,  4.91554299e-01,  4.44130179e-01,\n",
              "         4.01281437e-01],\n",
              "       [ 1.00000000e+00,  1.01778486e+00,  1.03588602e+00,\n",
              "         1.05430911e+00,  1.07305986e+00,  1.09214408e+00,\n",
              "         1.11156771e+00,  1.13133679e+00,  1.15145745e+00,\n",
              "         1.17193596e+00],\n",
              "       [ 1.00000000e+00,  1.13204761e+00,  1.28153179e+00,\n",
              "         1.45075501e+00,  1.64232374e+00,  1.85918866e+00,\n",
              "         2.10469009e+00,  2.38260938e+00,  2.69722726e+00,\n",
              "         3.05338968e+00],\n",
              "       [ 1.00000000e+00,  1.24631036e+00,  1.55328951e+00,\n",
              "         1.93588082e+00,  2.41270832e+00,  3.00698337e+00,\n",
              "         3.74763453e+00,  4.67071574e+00,  5.82116142e+00,\n",
              "         7.25497379e+00],\n",
              "       [ 1.00000000e+00,  1.36057311e+00,  1.85115919e+00,\n",
              "         2.51863741e+00,  3.42679034e+00,  4.66239879e+00,\n",
              "         6.34353442e+00,  8.63084236e+00,  1.17428920e+01,\n",
              "         1.59770631e+01],\n",
              "       [ 1.00000000e+00,  1.47483586e+00,  2.17514081e+00,\n",
              "         3.20797567e+00,  4.73123756e+00,  6.97779881e+00,\n",
              "         1.02911079e+01,  1.51776950e+01,  2.23846088e+01,\n",
              "         3.30136238e+01],\n",
              "       [ 1.00000000e+00,  1.58909861e+00,  2.52523439e+00,\n",
              "         4.01284646e+00,  6.37680872e+00,  1.01333779e+01,\n",
              "         1.61029367e+01,  2.55891543e+01,  4.06636895e+01,\n",
              "         6.46186124e+01]])"
            ]
          },
          "metadata": {},
          "execution_count": 18
        }
      ]
    },
    {
      "cell_type": "code",
      "source": [
        "from sklearn.linear_model import LinearRegression\n",
        "poly_reg = LinearRegression().fit(X_train, t) # Fit a linear model\n",
        "print('loss at order ', poly_order, ' :', np.mean((t-poly_reg.predict(X_train))**2 ) )"
      ],
      "metadata": {
        "colab": {
          "base_uri": "https://localhost:8080/"
        },
        "id": "YhJ9uPZWy1e-",
        "outputId": "d4908faf-0408-4735-c88a-34baac0d4fdf"
      },
      "execution_count": 25,
      "outputs": [
        {
          "output_type": "stream",
          "name": "stdout",
          "text": [
            "loss at order  9  : 0.015317351464103028\n"
          ]
        }
      ]
    },
    {
      "cell_type": "code",
      "source": [
        "#temp = []\n",
        "x_test = np.linspace(1880,2020, 100)[:,None] # test data\n",
        "x_test = transform(x_test) # do the same rescaling to the test data \n",
        "X_test = make_polynomial(x_test, poly_order) # construct the polynomial matrix for test data\n",
        "f_test = poly_reg.predict(X_test)\n",
        "\n",
        "print(np.shape(X_test), np.shape(f_test))\n",
        "plt.plot(x_test,f_test,'b-',linewidth=2) # plot the fitted data\n",
        "plt.scatter(x,t) # draw a scatter plot\n",
        "plt.xlabel('Years') # always label x&y-axis\n",
        "plt.ylabel('Time (seconds)') # always label x&y-axis"
      ],
      "metadata": {
        "colab": {
          "base_uri": "https://localhost:8080/",
          "height": 314
        },
        "id": "Ip1M9ZhszTZ-",
        "outputId": "7340e24f-facf-45ea-9c38-2094e131a0eb"
      },
      "execution_count": 26,
      "outputs": [
        {
          "output_type": "stream",
          "name": "stdout",
          "text": [
            "(100, 10) (100, 1)\n"
          ]
        },
        {
          "output_type": "execute_result",
          "data": {
            "text/plain": [
              "Text(0, 0.5, 'Time (seconds)')"
            ]
          },
          "metadata": {},
          "execution_count": 26
        },
        {
          "output_type": "display_data",
          "data": {
            "text/plain": [
              "<Figure size 432x288 with 1 Axes>"
            ],
            "image/png": "[encoded data removed]"
          },
          "metadata": {
            "needs_background": "light"
          }
        }
      ]
    },
    {
      "cell_type": "code",
      "source": [
        "x_test = np.linspace(1880,2020, 100)[:,None] # test data\n",
        "x_test = transform(x_test) # do the same rescaling to the test data \n",
        "X_test = make_polynomial(x_test, poly_order) # construct the polynomial matrix for test data\n",
        "f_test = poly_reg.predict(X_test)\n",
        "plt.plot(x_test,f_test,'b-',linewidth=2) # plot the fitted data\n",
        "print(np.shape(x_test),x_test)\n",
        "print(np.shape(f_test),f_test)\n",
        "plt.scatter(x,t) # draw a scatter plot\n",
        "plt.xlabel('Years') # always label x&y-axis\n",
        "plt.ylabel('Time (seconds)') # always label x&y-axis"
      ],
      "metadata": {
        "colab": {
          "base_uri": "https://localhost:8080/",
          "height": 1000
        },
        "id": "KWKULerjzfzK",
        "outputId": "21fd9180-4846-4f91-fc73-5b77223e3406"
      },
      "execution_count": 27,
      "outputs": [
        {
          "output_type": "stream",
          "name": "stdout",
          "text": [
            "(100, 1) [[-1.71481604]\n",
            " [-1.68017329]\n",
            " [-1.64553055]\n",
            " [-1.6108878 ]\n",
            " [-1.57624505]\n",
            " [-1.5416023 ]\n",
            " [-1.50695955]\n",
            " [-1.4723168 ]\n",
            " [-1.43767406]\n",
            " [-1.40303131]\n",
            " [-1.36838856]\n",
            " [-1.33374581]\n",
            " [-1.29910306]\n",
            " [-1.26446031]\n",
            " [-1.22981757]\n",
            " [-1.19517482]\n",
            " [-1.16053207]\n",
            " [-1.12588932]\n",
            " [-1.09124657]\n",
            " [-1.05660382]\n",
            " [-1.02196108]\n",
            " [-0.98731833]\n",
            " [-0.95267558]\n",
            " [-0.91803283]\n",
            " [-0.88339008]\n",
            " [-0.84874733]\n",
            " [-0.81410459]\n",
            " [-0.77946184]\n",
            " [-0.74481909]\n",
            " [-0.71017634]\n",
            " [-0.67553359]\n",
            " [-0.64089084]\n",
            " [-0.6062481 ]\n",
            " [-0.57160535]\n",
            " [-0.5369626 ]\n",
            " [-0.50231985]\n",
            " [-0.4676771 ]\n",
            " [-0.43303435]\n",
            " [-0.39839161]\n",
            " [-0.36374886]\n",
            " [-0.32910611]\n",
            " [-0.29446336]\n",
            " [-0.25982061]\n",
            " [-0.22517786]\n",
            " [-0.19053512]\n",
            " [-0.15589237]\n",
            " [-0.12124962]\n",
            " [-0.08660687]\n",
            " [-0.05196412]\n",
            " [-0.01732137]\n",
            " [ 0.01732137]\n",
            " [ 0.05196412]\n",
            " [ 0.08660687]\n",
            " [ 0.12124962]\n",
            " [ 0.15589237]\n",
            " [ 0.19053512]\n",
            " [ 0.22517786]\n",
            " [ 0.25982061]\n",
            " [ 0.29446336]\n",
            " [ 0.32910611]\n",
            " [ 0.36374886]\n",
            " [ 0.39839161]\n",
            " [ 0.43303435]\n",
            " [ 0.4676771 ]\n",
            " [ 0.50231985]\n",
            " [ 0.5369626 ]\n",
            " [ 0.57160535]\n",
            " [ 0.6062481 ]\n",
            " [ 0.64089084]\n",
            " [ 0.67553359]\n",
            " [ 0.71017634]\n",
            " [ 0.74481909]\n",
            " [ 0.77946184]\n",
            " [ 0.81410459]\n",
            " [ 0.84874733]\n",
            " [ 0.88339008]\n",
            " [ 0.91803283]\n",
            " [ 0.95267558]\n",
            " [ 0.98731833]\n",
            " [ 1.02196108]\n",
            " [ 1.05660382]\n",
            " [ 1.09124657]\n",
            " [ 1.12588932]\n",
            " [ 1.16053207]\n",
            " [ 1.19517482]\n",
            " [ 1.22981757]\n",
            " [ 1.26446031]\n",
            " [ 1.29910306]\n",
            " [ 1.33374581]\n",
            " [ 1.36838856]\n",
            " [ 1.40303131]\n",
            " [ 1.43767406]\n",
            " [ 1.4723168 ]\n",
            " [ 1.50695955]\n",
            " [ 1.5416023 ]\n",
            " [ 1.57624505]\n",
            " [ 1.6108878 ]\n",
            " [ 1.64553055]\n",
            " [ 1.68017329]\n",
            " [ 1.71481604]]\n",
            "(100, 1) [[14.33096639]\n",
            " [13.30950805]\n",
            " [12.54638406]\n",
            " [11.98883848]\n",
            " [11.59255967]\n",
            " [11.32063467]\n",
            " [11.14260118]\n",
            " [11.03359048]\n",
            " [10.9735552 ]\n",
            " [10.94657594]\n",
            " [10.94024104]\n",
            " [10.94509409]\n",
            " [10.95414407]\n",
            " [10.96243306]\n",
            " [10.96665707]\n",
            " [10.96483529]\n",
            " [10.95602378]\n",
            " [10.94006946]\n",
            " [10.91740071]\n",
            " [10.88885109]\n",
            " [10.85551266]\n",
            " [10.81861599]\n",
            " [10.77943374]\n",
            " [10.73920518]\n",
            " [10.69907902]\n",
            " [10.6600722 ]\n",
            " [10.6230424 ]\n",
            " [10.58867232]\n",
            " [10.55746372]\n",
            " [10.52973961]\n",
            " [10.50565298]\n",
            " [10.4852006 ]\n",
            " [10.46824078]\n",
            " [10.45451364]\n",
            " [10.44366322]\n",
            " [10.43526024]\n",
            " [10.42882493]\n",
            " [10.4238491 ]\n",
            " [10.41981703]\n",
            " [10.41622463]\n",
            " [10.4125965 ]\n",
            " [10.40850063]\n",
            " [10.40356057]\n",
            " [10.39746487]\n",
            " [10.38997378]\n",
            " [10.38092325]\n",
            " [10.37022626]\n",
            " [10.3578716 ]\n",
            " [10.34392034]\n",
            " [10.32850009]\n",
            " [10.31179744]\n",
            " [10.29404878]\n",
            " [10.27552978]\n",
            " [10.25654397]\n",
            " [10.23741064]\n",
            " [10.21845252]\n",
            " [10.1999835 ]\n",
            " [10.18229678]\n",
            " [10.16565382]\n",
            " [10.1502743 ]\n",
            " [10.13632762]\n",
            " [10.12392593]\n",
            " [10.11311914]\n",
            " [10.10389207]\n",
            " [10.09616385]\n",
            " [10.0897898 ]\n",
            " [10.08456566]\n",
            " [10.08023436]\n",
            " [10.07649522]\n",
            " [10.07301529]\n",
            " [10.06944284]\n",
            " [10.0654225 ]\n",
            " [10.06061182]\n",
            " [10.05469864]\n",
            " [10.04741871]\n",
            " [10.03857295]\n",
            " [10.02804346]\n",
            " [10.01580729]\n",
            " [10.00194716]\n",
            " [ 9.98665766]\n",
            " [ 9.97024585]\n",
            " [ 9.95312465]\n",
            " [ 9.9357975 ]\n",
            " [ 9.91883254]\n",
            " [ 9.90282437]\n",
            " [ 9.88834125]\n",
            " [ 9.87585568]\n",
            " [ 9.86565572]\n",
            " [ 9.85773463]\n",
            " [ 9.8516559 ]\n",
            " [ 9.84639079]\n",
            " [ 9.84012516]\n",
            " [ 9.83003218]\n",
            " [ 9.81200739]\n",
            " [ 9.78036222]\n",
            " [ 9.72747206]\n",
            " [ 9.64337445]\n",
            " [ 9.51531307]\n",
            " [ 9.32722272]\n",
            " [ 9.05915028]]\n"
          ]
        },
        {
          "output_type": "execute_result",
          "data": {
            "text/plain": [
              "Text(0, 0.5, 'Time (seconds)')"
            ]
          },
          "metadata": {},
          "execution_count": 27
        },
        {
          "output_type": "display_data",
          "data": {
            "text/plain": [
              "<Figure size 432x288 with 1 Axes>"
            ],
            "image/png": "[encoded data removed]"
          },
          "metadata": {
            "needs_background": "light"
          }
        }
      ]
    },
    {
      "cell_type": "code",
      "source": [],
      "metadata": {
        "id": "tgwyUknmzikY"
      },
      "execution_count": null,
      "outputs": []
    }
  ]
}