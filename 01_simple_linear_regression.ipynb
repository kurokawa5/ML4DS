{
  "nbformat": 4,
  "nbformat_minor": 0,
  "metadata": {
    "colab": {
      "provenance": [],
      "mount_file_id": "1aIJALq3HKE8BuGJPLTbXyDmwAvNL7HrB",
      "authorship_tag": "ABX9TyP/XmBsEfv/so5NPltUbDkT",
      "include_colab_link": true
    },
    "kernelspec": {
      "name": "python3",
      "display_name": "Python 3"
    },
    "language_info": {
      "name": "python"
    }
  },
  "cells": [
    {
      "cell_type": "markdown",
      "metadata": {
        "id": "view-in-github",
        "colab_type": "text"
      },
      "source": [
        "<a href=\"https://colab.research.google.com/github/kurokawa5/ML4DS/blob/main/01_simple_linear_regression.ipynb\" target=\"_parent\"><img src=\"https://colab.research.google.com/assets/colab-badge.svg\" alt=\"Open In Colab\"/></a>"
      ]
    },
    {
      "cell_type": "code",
      "execution_count": 3,
      "metadata": {
        "colab": {
          "base_uri": "https://localhost:8080/"
        },
        "id": "iuau4AIuzO8R",
        "outputId": "52a97be3-58dd-4788-dcba-493acf26d204"
      },
      "outputs": [
        {
          "output_type": "stream",
          "name": "stdout",
          "text": [
            "Drive already mounted at /content/drive; to attempt to forcibly remount, call drive.mount(\"/content/drive\", force_remount=True).\n"
          ]
        }
      ],
      "source": [
        "from google.colab import drive\n",
        "drive.mount('/content/drive')"
      ]
    },
    {
      "cell_type": "markdown",
      "source": [
        "Task 1: Download and import the olympic data"
      ],
      "metadata": {
        "id": "tTn3udFm75dU"
      }
    },
    {
      "cell_type": "code",
      "source": [
        "import numpy as np \n",
        "\n",
        "data = np.loadtxt('/content/drive/MyDrive/05_workspace/09_ml4ds/01_simple_linear_regression/olympic100m.txt', delimiter=',') # load olympic data\n",
        "data"
      ],
      "metadata": {
        "colab": {
          "base_uri": "https://localhost:8080/"
        },
        "id": "YtKuJBfY7wiZ",
        "outputId": "b72b90af-4103-4242-85ff-1a52d5efd8b5"
      },
      "execution_count": 4,
      "outputs": [
        {
          "output_type": "execute_result",
          "data": {
            "text/plain": [
              "array([[1896.  ,   12.  ],\n",
              "       [1900.  ,   11.  ],\n",
              "       [1904.  ,   11.  ],\n",
              "       [1906.  ,   11.2 ],\n",
              "       [1908.  ,   10.8 ],\n",
              "       [1912.  ,   10.8 ],\n",
              "       [1920.  ,   10.8 ],\n",
              "       [1924.  ,   10.6 ],\n",
              "       [1928.  ,   10.8 ],\n",
              "       [1932.  ,   10.3 ],\n",
              "       [1936.  ,   10.3 ],\n",
              "       [1948.  ,   10.3 ],\n",
              "       [1952.  ,   10.4 ],\n",
              "       [1956.  ,   10.5 ],\n",
              "       [1960.  ,   10.2 ],\n",
              "       [1964.  ,   10.  ],\n",
              "       [1968.  ,    9.95],\n",
              "       [1972.  ,   10.14],\n",
              "       [1976.  ,   10.06],\n",
              "       [1980.  ,   10.25],\n",
              "       [1984.  ,    9.99],\n",
              "       [1988.  ,    9.92],\n",
              "       [1992.  ,    9.96],\n",
              "       [1996.  ,    9.84],\n",
              "       [2000.  ,    9.87],\n",
              "       [2004.  ,    9.85],\n",
              "       [2008.  ,    9.69]])"
            ]
          },
          "metadata": {},
          "execution_count": 4
        }
      ]
    },
    {
      "cell_type": "code",
      "source": [
        "data.shape"
      ],
      "metadata": {
        "colab": {
          "base_uri": "https://localhost:8080/"
        },
        "id": "wfEFDsAL7XP8",
        "outputId": "fe4f07a1-353c-4cf0-ced6-21aec188edf0"
      },
      "execution_count": 5,
      "outputs": [
        {
          "output_type": "execute_result",
          "data": {
            "text/plain": [
              "(27, 2)"
            ]
          },
          "metadata": {},
          "execution_count": 5
        }
      ]
    },
    {
      "cell_type": "code",
      "source": [
        "%matplotlib inline\n",
        "import pylab as plt\n",
        "x = data[:,0]\n",
        "t = data[:,1]\n",
        "plt.scatter(x,t) # draw a scatter plot\n",
        "plt.xlabel('Years') # always label x&y-axis\n",
        "plt.ylabel('Time (seconds)') # always label x&y-axis"
      ],
      "metadata": {
        "colab": {
          "base_uri": "https://localhost:8080/",
          "height": 296
        },
        "id": "6WQ9p32G8FEi",
        "outputId": "48ac68bb-b191-4c4e-cf3e-55d488465c6c"
      },
      "execution_count": 6,
      "outputs": [
        {
          "output_type": "execute_result",
          "data": {
            "text/plain": [
              "Text(0, 0.5, 'Time (seconds)')"
            ]
          },
          "metadata": {},
          "execution_count": 6
        },
        {
          "output_type": "display_data",
          "data": {
            "text/plain": [
              "<Figure size 432x288 with 1 Axes>"
            ],
            "image/png": "[encoded data removed]"
          },
          "metadata": {
            "needs_background": "light"
          }
        }
      ]
    },
    {
      "cell_type": "code",
      "source": [
        "from sklearn.linear_model import LinearRegression # import \n",
        "\n",
        "x = x[:,None] # 27 x 1 array\n",
        "t = t[:,None] # 27 x 1 array\n",
        "\n",
        "print(t.shape)\n",
        "reg = LinearRegression().fit(x, t)\n",
        "\n",
        "print([reg.intercept_, reg.coef_])"
      ],
      "metadata": {
        "colab": {
          "base_uri": "https://localhost:8080/"
        },
        "id": "Hxm5L_Hz985d",
        "outputId": "b7b16c77-cd83-4df7-cfda-71ad07925023"
      },
      "execution_count": 7,
      "outputs": [
        {
          "output_type": "stream",
          "name": "stdout",
          "text": [
            "(27, 1)\n",
            "[array([36.4164559]), array([[-0.01333089]])]\n"
          ]
        }
      ]
    },
    {
      "cell_type": "markdown",
      "source": [
        "[Sklearn linear regression X and Y input format](https://stackoverflow.com/questions/29462108/sklearn-linear-regression-x-and-y-input-format)"
      ],
      "metadata": {
        "id": "s6ugz3pVCW4R"
      }
    },
    {
      "cell_type": "code",
      "source": [
        "x_test = np.linspace(1880,2020, 100) # generate new x to plot the fitted line. Note better not to use the original x !\n",
        "x_test"
      ],
      "metadata": {
        "colab": {
          "base_uri": "https://localhost:8080/"
        },
        "id": "RntZNwra-IC_",
        "outputId": "143f5073-b636-4477-fcbe-630442e0c5da"
      },
      "execution_count": 14,
      "outputs": [
        {
          "output_type": "execute_result",
          "data": {
            "text/plain": [
              "array([1880.        , 1881.41414141, 1882.82828283, 1884.24242424,\n",
              "       1885.65656566, 1887.07070707, 1888.48484848, 1889.8989899 ,\n",
              "       1891.31313131, 1892.72727273, 1894.14141414, 1895.55555556,\n",
              "       1896.96969697, 1898.38383838, 1899.7979798 , 1901.21212121,\n",
              "       1902.62626263, 1904.04040404, 1905.45454545, 1906.86868687,\n",
              "       1908.28282828, 1909.6969697 , 1911.11111111, 1912.52525253,\n",
              "       1913.93939394, 1915.35353535, 1916.76767677, 1918.18181818,\n",
              "       1919.5959596 , 1921.01010101, 1922.42424242, 1923.83838384,\n",
              "       1925.25252525, 1926.66666667, 1928.08080808, 1929.49494949,\n",
              "       1930.90909091, 1932.32323232, 1933.73737374, 1935.15151515,\n",
              "       1936.56565657, 1937.97979798, 1939.39393939, 1940.80808081,\n",
              "       1942.22222222, 1943.63636364, 1945.05050505, 1946.46464646,\n",
              "       1947.87878788, 1949.29292929, 1950.70707071, 1952.12121212,\n",
              "       1953.53535354, 1954.94949495, 1956.36363636, 1957.77777778,\n",
              "       1959.19191919, 1960.60606061, 1962.02020202, 1963.43434343,\n",
              "       1964.84848485, 1966.26262626, 1967.67676768, 1969.09090909,\n",
              "       1970.50505051, 1971.91919192, 1973.33333333, 1974.74747475,\n",
              "       1976.16161616, 1977.57575758, 1978.98989899, 1980.4040404 ,\n",
              "       1981.81818182, 1983.23232323, 1984.64646465, 1986.06060606,\n",
              "       1987.47474747, 1988.88888889, 1990.3030303 , 1991.71717172,\n",
              "       1993.13131313, 1994.54545455, 1995.95959596, 1997.37373737,\n",
              "       1998.78787879, 2000.2020202 , 2001.61616162, 2003.03030303,\n",
              "       2004.44444444, 2005.85858586, 2007.27272727, 2008.68686869,\n",
              "       2010.1010101 , 2011.51515152, 2012.92929293, 2014.34343434,\n",
              "       2015.75757576, 2017.17171717, 2018.58585859, 2020.        ])"
            ]
          },
          "metadata": {},
          "execution_count": 14
        }
      ]
    },
    {
      "cell_type": "code",
      "source": [
        "plt.plot(x_test,reg.predict(x_test[:,None]),'b-',linewidth=2) # plot the fitted data\n",
        "\n",
        "plt.plot(2012,reg.predict(np.array([[2012]])),'ro') # plot the fitted data in 2012 year\n",
        "plt.scatter(x,t) # draw a scatter plot\n",
        "plt.xlabel('Years') # always label x&y-axis\n",
        "plt.ylabel('Time (seconds)') # always label x&y-axis"
      ],
      "metadata": {
        "colab": {
          "base_uri": "https://localhost:8080/",
          "height": 296
        },
        "id": "UAhI_deg-Vv2",
        "outputId": "a1b95887-a8fb-483f-8f0a-5f9a6b85c3ee"
      },
      "execution_count": 15,
      "outputs": [
        {
          "output_type": "execute_result",
          "data": {
            "text/plain": [
              "Text(0, 0.5, 'Time (seconds)')"
            ]
          },
          "metadata": {},
          "execution_count": 15
        },
        {
          "output_type": "display_data",
          "data": {
            "text/plain": [
              "<Figure size 432x288 with 1 Axes>"
            ],
            "image/png": "[encoded data removed]"
          },
          "metadata": {
            "needs_background": "light"
          }
        }
      ]
    },
    {
      "cell_type": "code",
      "source": [],
      "metadata": {
        "id": "B58Suo_vC9h0"
      },
      "execution_count": null,
      "outputs": []
    }
  ]
}