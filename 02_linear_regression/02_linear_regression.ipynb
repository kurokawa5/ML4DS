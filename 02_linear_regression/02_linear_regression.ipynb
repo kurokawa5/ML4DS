{
  "nbformat": 4,
  "nbformat_minor": 0,
  "metadata": {
    "colab": {
      "provenance": [],
      "authorship_tag": "ABX9TyMcEs91QoccyXhidKIrllS5",
      "include_colab_link": true
    },
    "kernelspec": {
      "name": "python3",
      "display_name": "Python 3"
    },
    "language_info": {
      "name": "python"
    }
  },
  "cells": [
    {
      "cell_type": "markdown",
      "metadata": {
        "id": "view-in-github",
        "colab_type": "text"
      },
      "source": [
        "<a href=\"https://colab.research.google.com/github/kurokawa5/ML4DS/blob/main/02_linear_regression/02_linear_regression.ipynb\" target=\"_parent\"><img src=\"https://colab.research.google.com/assets/colab-badge.svg\" alt=\"Open In Colab\"/></a>"
      ]
    },
    {
      "cell_type": "code",
      "execution_count": 1,
      "metadata": {
        "colab": {
          "base_uri": "https://localhost:8080/"
        },
        "id": "sHT3sxkasN-z",
        "outputId": "7572f08f-048a-4c2d-b3e6-d3c8e66bf716"
      },
      "outputs": [
        {
          "output_type": "stream",
          "name": "stdout",
          "text": [
            "Mounted at /content/drive\n"
          ]
        }
      ],
      "source": [
        "from google.colab import drive\n",
        "\n",
        "drive.mount('/content/drive')"
      ]
    },
    {
      "cell_type": "code",
      "source": [
        "import numpy as np \n",
        "%matplotlib inline\n",
        "import pylab as plt\n",
        "\n",
        "data = np.loadtxt('/content/drive/MyDrive/05_workspace/09_ml4ds/02_linear_regression/olympic100m.txt', delimiter=',') # make sure olympic100m.txt is in the right folder\n",
        "x = data[:,0][:,None] # make x a matrix\n",
        "t = data[:,1][:,None] # make t a column vector "
      ],
      "metadata": {
        "id": "2YVt-K-xsTwe"
      },
      "execution_count": 2,
      "outputs": []
    },
    {
      "cell_type": "code",
      "source": [
        "#x.shape\n",
        "# -> (27, 1)\n",
        "#t.shape\n",
        "# -> (27, 1)"
      ],
      "metadata": {
        "id": "6G9xm6rozBHa"
      },
      "execution_count": 3,
      "outputs": []
    },
    {
      "cell_type": "markdown",
      "source": [
        "#### Task 2: Perform Polynomial Regression on the Olympic data\n",
        "\n",
        "#### Task 2.1 Rescale $x$ \n",
        "We rescale  𝑥  to make it small. Doing so will stablise the computatoin, otherwise it quickly becomes unfeasible to fit polynomials over ~ 2000 . "
      ],
      "metadata": {
        "id": "tAaSJdZZYl4Y"
      }
    },
    {
      "cell_type": "code",
      "source": [
        "def transform(x):\n",
        "    return (x-np.mean(x))/np.std(x) "
      ],
      "metadata": {
        "id": "3Miff_bfsRI7"
      },
      "execution_count": 4,
      "outputs": []
    },
    {
      "cell_type": "code",
      "source": [
        "x = transform(x) # rescale x here\n",
        "plt.plot(x, t, 'ro')\n",
        "plt.xlabel('Rescaled years')\n",
        "plt.ylabel('Time (seconds)')"
      ],
      "metadata": {
        "colab": {
          "base_uri": "https://localhost:8080/",
          "height": 296
        },
        "id": "XIh06lg0tHgV",
        "outputId": "377ad1bf-9240-4a3b-87f1-f34844aac231"
      },
      "execution_count": 5,
      "outputs": [
        {
          "output_type": "execute_result",
          "data": {
            "text/plain": [
              "Text(0, 0.5, 'Time (seconds)')"
            ]
          },
          "metadata": {},
          "execution_count": 5
        },
        {
          "output_type": "display_data",
          "data": {
            "text/plain": [
              "<Figure size 432x288 with 1 Axes>"
            ],
            "image/png": "[encoded data removed]"
          },
          "metadata": {
            "needs_background": "light"
          }
        }
      ]
    },
    {
      "cell_type": "markdown",
      "source": [
        "#### Task 2.2 Write you own function to construct the design matrix with polynomials\n",
        "\n",
        "$$\\mathbf{X} = \\begin{bmatrix}\n",
        "    1       & x_{1} & x_{1}^2 & \\dots & x_{1}^K \\\\\n",
        "    1       & x_{2} & x_{2} & \\dots & x_{2}^K \\\\\n",
        "    \\vdots & \\vdots &\\vdots &\\ddots &\\vdots\\\\\n",
        "    1       & x_{N} & x_{N}^2 & \\dots & x_{N}^K\n",
        "\\end{bmatrix} $$"
      ],
      "metadata": {
        "id": "glCXyGIOcioC"
      }
    },
    {
      "cell_type": "code",
      "source": [
        "def make_polynomial(x, maxorder): # The np.hstack function can be very helpful\n",
        "    X = np.ones_like(x) \n",
        "    for i in range(1,maxorder+1):\n",
        "        X = np.hstack((X,x**i))\n",
        "        #print(X)\n",
        "    return(X) "
      ],
      "metadata": {
        "id": "bmiA0iHMthOD"
      },
      "execution_count": 6,
      "outputs": []
    },
    {
      "cell_type": "markdown",
      "source": [
        "#### Task 2.3 Construct the design matrix with a predefined maximum polynomial order \n"
      ],
      "metadata": {
        "id": "-f_ux4KEY9DM"
      }
    },
    {
      "cell_type": "code",
      "source": [
        "poly_order = 9 #K=9\n",
        "X_train = make_polynomial(x, poly_order) "
      ],
      "metadata": {
        "id": "UEt72WhZyZhD"
      },
      "execution_count": 7,
      "outputs": []
    },
    {
      "cell_type": "code",
      "source": [
        "#X_train.shape\n",
        "# -> (27, 10)"
      ],
      "metadata": {
        "id": "TLAItbAWybkI"
      },
      "execution_count": 8,
      "outputs": []
    },
    {
      "cell_type": "markdown",
      "source": [
        "#### Task 2.4 Fit a linear regression model with polynomial matrix and print out the training loss"
      ],
      "metadata": {
        "id": "4HUb-m0Bg8xX"
      }
    },
    {
      "cell_type": "code",
      "source": [
        "from sklearn.linear_model import LinearRegression\n",
        "\n",
        "poly_reg = LinearRegression().fit(X_train, t) # Fit a linear model\n",
        "print('loss at order ', poly_order, ' :', np.mean((t-poly_reg.predict(X_train))**2 ) )"
      ],
      "metadata": {
        "colab": {
          "base_uri": "https://localhost:8080/"
        },
        "id": "YhJ9uPZWy1e-",
        "outputId": "3deeadc2-23fa-46b6-94f4-9075e1242e46"
      },
      "execution_count": 9,
      "outputs": [
        {
          "output_type": "stream",
          "name": "stdout",
          "text": [
            "loss at order  9  : 0.015317351464103028\n"
          ]
        }
      ]
    },
    {
      "cell_type": "markdown",
      "source": [
        "#### Task 2.5 Plot the fitted model and data"
      ],
      "metadata": {
        "id": "tAzlC5wbs0QB"
      }
    },
    {
      "cell_type": "code",
      "source": [
        "#temp = []\n",
        "x_test = np.linspace(1880,2020, 100)[:,None] # test data\n",
        "x_test = transform(x_test) # do the same rescaling to the test data \n",
        "X_test = make_polynomial(x_test, poly_order) # construct the polynomial matrix for test data\n",
        "f_test = poly_reg.predict(X_test)\n",
        "\n",
        "print(np.shape(X_test), np.shape(f_test))\n",
        "plt.plot(x_test,f_test,'b-',linewidth=2) # plot the fitted data\n",
        "plt.scatter(x,t) # draw a scatter plot\n",
        "plt.xlabel('Years') # always label x&y-axis\n",
        "plt.ylabel('Time (seconds)') # always label x&y-axis"
      ],
      "metadata": {
        "colab": {
          "base_uri": "https://localhost:8080/",
          "height": 314
        },
        "id": "Ip1M9ZhszTZ-",
        "outputId": "5f3cc193-4a5c-45ab-c8ac-6b1252f29bd7"
      },
      "execution_count": 10,
      "outputs": [
        {
          "output_type": "stream",
          "name": "stdout",
          "text": [
            "(100, 10) (100, 1)\n"
          ]
        },
        {
          "output_type": "execute_result",
          "data": {
            "text/plain": [
              "Text(0, 0.5, 'Time (seconds)')"
            ]
          },
          "metadata": {},
          "execution_count": 10
        },
        {
          "output_type": "display_data",
          "data": {
            "text/plain": [
              "<Figure size 432x288 with 1 Axes>"
            ],
            "image/png": "[encoded data removed]"
          },
          "metadata": {
            "needs_background": "light"
          }
        }
      ]
    },
    {
      "cell_type": "code",
      "source": [
        "x_test = np.linspace(1880,2020, 100)[:,None] # test data\n",
        "x_test = transform(x_test) # do the same rescaling to the test data \n",
        "X_test = make_polynomial(x_test, poly_order) # construct the polynomial matrix for test data\n",
        "f_test = poly_reg.predict(X_test)\n",
        "\n",
        "plt.plot(x_test,f_test,'b-',linewidth=2) # plot the fitted data\n",
        "print(np.shape(x_test),x_test)\n",
        "print(np.shape(f_test),f_test)\n",
        "\n",
        "plt.scatter(x,t) # draw a scatter plot\n",
        "plt.xlabel('Years') # always label x&y-axis\n",
        "plt.ylabel('Time (seconds)') # always label x&y-axis"
      ],
      "metadata": {
        "colab": {
          "base_uri": "https://localhost:8080/",
          "height": 1000
        },
        "id": "KWKULerjzfzK",
        "outputId": "74209671-7ca8-4ad3-fb48-6f66779cfca9"
      },
      "execution_count": 11,
      "outputs": [
        {
          "output_type": "stream",
          "name": "stdout",
          "text": [
            "(100, 1) [[-1.71481604]\n",
            " [-1.68017329]\n",
            " [-1.64553055]\n",
            " [-1.6108878 ]\n",
            " [-1.57624505]\n",
            " [-1.5416023 ]\n",
            " [-1.50695955]\n",
            " [-1.4723168 ]\n",
            " [-1.43767406]\n",
            " [-1.40303131]\n",
            " [-1.36838856]\n",
            " [-1.33374581]\n",
            " [-1.29910306]\n",
            " [-1.26446031]\n",
            " [-1.22981757]\n",
            " [-1.19517482]\n",
            " [-1.16053207]\n",
            " [-1.12588932]\n",
            " [-1.09124657]\n",
            " [-1.05660382]\n",
            " [-1.02196108]\n",
            " [-0.98731833]\n",
            " [-0.95267558]\n",
            " [-0.91803283]\n",
            " [-0.88339008]\n",
            " [-0.84874733]\n",
            " [-0.81410459]\n",
            " [-0.77946184]\n",
            " [-0.74481909]\n",
            " [-0.71017634]\n",
            " [-0.67553359]\n",
            " [-0.64089084]\n",
            " [-0.6062481 ]\n",
            " [-0.57160535]\n",
            " [-0.5369626 ]\n",
            " [-0.50231985]\n",
            " [-0.4676771 ]\n",
            " [-0.43303435]\n",
            " [-0.39839161]\n",
            " [-0.36374886]\n",
            " [-0.32910611]\n",
            " [-0.29446336]\n",
            " [-0.25982061]\n",
            " [-0.22517786]\n",
            " [-0.19053512]\n",
            " [-0.15589237]\n",
            " [-0.12124962]\n",
            " [-0.08660687]\n",
            " [-0.05196412]\n",
            " [-0.01732137]\n",
            " [ 0.01732137]\n",
            " [ 0.05196412]\n",
            " [ 0.08660687]\n",
            " [ 0.12124962]\n",
            " [ 0.15589237]\n",
            " [ 0.19053512]\n",
            " [ 0.22517786]\n",
            " [ 0.25982061]\n",
            " [ 0.29446336]\n",
            " [ 0.32910611]\n",
            " [ 0.36374886]\n",
            " [ 0.39839161]\n",
            " [ 0.43303435]\n",
            " [ 0.4676771 ]\n",
            " [ 0.50231985]\n",
            " [ 0.5369626 ]\n",
            " [ 0.57160535]\n",
            " [ 0.6062481 ]\n",
            " [ 0.64089084]\n",
            " [ 0.67553359]\n",
            " [ 0.71017634]\n",
            " [ 0.74481909]\n",
            " [ 0.77946184]\n",
            " [ 0.81410459]\n",
            " [ 0.84874733]\n",
            " [ 0.88339008]\n",
            " [ 0.91803283]\n",
            " [ 0.95267558]\n",
            " [ 0.98731833]\n",
            " [ 1.02196108]\n",
            " [ 1.05660382]\n",
            " [ 1.09124657]\n",
            " [ 1.12588932]\n",
            " [ 1.16053207]\n",
            " [ 1.19517482]\n",
            " [ 1.22981757]\n",
            " [ 1.26446031]\n",
            " [ 1.29910306]\n",
            " [ 1.33374581]\n",
            " [ 1.36838856]\n",
            " [ 1.40303131]\n",
            " [ 1.43767406]\n",
            " [ 1.4723168 ]\n",
            " [ 1.50695955]\n",
            " [ 1.5416023 ]\n",
            " [ 1.57624505]\n",
            " [ 1.6108878 ]\n",
            " [ 1.64553055]\n",
            " [ 1.68017329]\n",
            " [ 1.71481604]]\n",
            "(100, 1) [[14.33096639]\n",
            " [13.30950805]\n",
            " [12.54638406]\n",
            " [11.98883848]\n",
            " [11.59255967]\n",
            " [11.32063467]\n",
            " [11.14260118]\n",
            " [11.03359048]\n",
            " [10.9735552 ]\n",
            " [10.94657594]\n",
            " [10.94024104]\n",
            " [10.94509409]\n",
            " [10.95414407]\n",
            " [10.96243306]\n",
            " [10.96665707]\n",
            " [10.96483529]\n",
            " [10.95602378]\n",
            " [10.94006946]\n",
            " [10.91740071]\n",
            " [10.88885109]\n",
            " [10.85551266]\n",
            " [10.81861599]\n",
            " [10.77943374]\n",
            " [10.73920518]\n",
            " [10.69907902]\n",
            " [10.6600722 ]\n",
            " [10.6230424 ]\n",
            " [10.58867232]\n",
            " [10.55746372]\n",
            " [10.52973961]\n",
            " [10.50565298]\n",
            " [10.4852006 ]\n",
            " [10.46824078]\n",
            " [10.45451364]\n",
            " [10.44366322]\n",
            " [10.43526024]\n",
            " [10.42882493]\n",
            " [10.4238491 ]\n",
            " [10.41981703]\n",
            " [10.41622463]\n",
            " [10.4125965 ]\n",
            " [10.40850063]\n",
            " [10.40356057]\n",
            " [10.39746487]\n",
            " [10.38997378]\n",
            " [10.38092325]\n",
            " [10.37022626]\n",
            " [10.3578716 ]\n",
            " [10.34392034]\n",
            " [10.32850009]\n",
            " [10.31179744]\n",
            " [10.29404878]\n",
            " [10.27552978]\n",
            " [10.25654397]\n",
            " [10.23741064]\n",
            " [10.21845252]\n",
            " [10.1999835 ]\n",
            " [10.18229678]\n",
            " [10.16565382]\n",
            " [10.1502743 ]\n",
            " [10.13632762]\n",
            " [10.12392593]\n",
            " [10.11311914]\n",
            " [10.10389207]\n",
            " [10.09616385]\n",
            " [10.0897898 ]\n",
            " [10.08456566]\n",
            " [10.08023436]\n",
            " [10.07649522]\n",
            " [10.07301529]\n",
            " [10.06944284]\n",
            " [10.0654225 ]\n",
            " [10.06061182]\n",
            " [10.05469864]\n",
            " [10.04741871]\n",
            " [10.03857295]\n",
            " [10.02804346]\n",
            " [10.01580729]\n",
            " [10.00194716]\n",
            " [ 9.98665766]\n",
            " [ 9.97024585]\n",
            " [ 9.95312465]\n",
            " [ 9.9357975 ]\n",
            " [ 9.91883254]\n",
            " [ 9.90282437]\n",
            " [ 9.88834125]\n",
            " [ 9.87585568]\n",
            " [ 9.86565572]\n",
            " [ 9.85773463]\n",
            " [ 9.8516559 ]\n",
            " [ 9.84639079]\n",
            " [ 9.84012516]\n",
            " [ 9.83003218]\n",
            " [ 9.81200739]\n",
            " [ 9.78036222]\n",
            " [ 9.72747206]\n",
            " [ 9.64337445]\n",
            " [ 9.51531307]\n",
            " [ 9.32722272]\n",
            " [ 9.05915028]]\n"
          ]
        },
        {
          "output_type": "execute_result",
          "data": {
            "text/plain": [
              "Text(0, 0.5, 'Time (seconds)')"
            ]
          },
          "metadata": {},
          "execution_count": 11
        },
        {
          "output_type": "display_data",
          "data": {
            "text/plain": [
              "<Figure size 432x288 with 1 Axes>"
            ],
            "image/png": "[encoded data removed]"
          },
          "metadata": {
            "needs_background": "light"
          }
        }
      ]
    },
    {
      "cell_type": "markdown",
      "source": [
        "### Task 3: Choosing Polynomial order with Cross-Validation\n",
        "\n",
        "#### Task 3.1: Cross-Validation with a given Polynomial order.\n",
        "Reference for `KFold`: https://scikit-learn.org/stable/modules/generated/sklearn.model_selection.KFold.html"
      ],
      "metadata": {
        "id": "O9GRpB4is9Ij"
      }
    },
    {
      "cell_type": "code",
      "source": [
        "from sklearn.model_selection import KFold \n",
        "cv = KFold(n_splits = 5) # \n",
        "loss = []\n",
        "reg = LinearRegression()\n",
        "\n",
        "poly_order = 9\n",
        "X_train = make_polynomial(x, poly_order)\n",
        "\n",
        "for train_index, test_index in cv.split(X_train): \n",
        "    print('TRAIN:', train_index, 'TEST:', test_index)\n",
        "    X_train_cv, X_test_cv = X_train[train_index], X_train[test_index] # select X for training and testing\n",
        "    t_train_cv, t_test_cv = t[train_index], t[test_index] # select t for training and testing\n",
        "    reg.fit(X_train_cv, t_train_cv) # fit a model on the training data \n",
        "    loss.append( np.mean(( t_test_cv - reg.predict(X_test_cv) )**2  ) ) # compute loss on test data\n",
        "print(loss) # print loss across fold\n",
        "print(np.mean(loss)) # print average loss at this polynomial order"
      ],
      "metadata": {
        "id": "tgwyUknmzikY",
        "colab": {
          "base_uri": "https://localhost:8080/"
        },
        "outputId": "b7ece7b8-158b-427e-a3b6-1f94fa370148"
      },
      "execution_count": 12,
      "outputs": [
        {
          "output_type": "stream",
          "name": "stdout",
          "text": [
            "TRAIN: [ 6  7  8  9 10 11 12 13 14 15 16 17 18 19 20 21 22 23 24 25 26] TEST: [0 1 2 3 4 5]\n",
            "TRAIN: [ 0  1  2  3  4  5 12 13 14 15 16 17 18 19 20 21 22 23 24 25 26] TEST: [ 6  7  8  9 10 11]\n",
            "TRAIN: [ 0  1  2  3  4  5  6  7  8  9 10 11 17 18 19 20 21 22 23 24 25 26] TEST: [12 13 14 15 16]\n",
            "TRAIN: [ 0  1  2  3  4  5  6  7  8  9 10 11 12 13 14 15 16 22 23 24 25 26] TEST: [17 18 19 20 21]\n",
            "TRAIN: [ 0  1  2  3  4  5  6  7  8  9 10 11 12 13 14 15 16 17 18 19 20 21] TEST: [22 23 24 25 26]\n",
            "[2331.177225267947, 0.4133916880375341, 0.03962632115541277, 0.1314825502663531, 107.12933254071254]\n",
            "487.7782116736238\n"
          ]
        }
      ]
    },
    {
      "cell_type": "markdown",
      "source": [
        "#### Task 3.2: Cross-Validation for a range of Polynomial orders."
      ],
      "metadata": {
        "id": "kRrYppoytBQG"
      }
    },
    {
      "cell_type": "code",
      "source": [
        "cv = KFold(n_splits = 10)\n",
        "reg = LinearRegression()\n",
        "all_loss = []\n",
        "for i in range(9):  # 1st for loop over polynomial orders \n",
        "    poly_order = i\n",
        "    X_train = make_polynomial(x, poly_order)\n",
        "    loss_at_order = []\n",
        "    for train_index, test_index in cv.split(X_train): # 2nd for loop for cross-validation\n",
        "        X_train_cv, X_test_cv = X_train[train_index], X_train[test_index]\n",
        "        t_train_cv, t_test_cv = t[train_index], t[test_index]\n",
        "        reg.fit(X_train_cv, t_train_cv)\n",
        "        loss_at_order.append( np.mean(( t_test_cv - reg.predict(X_test_cv) )**2  ) ) # collect loss at fold\n",
        "    all_loss.append(np.mean(loss_at_order)) # collect loss at order\n",
        "plt.plot(np.log(all_loss), 'bo-') # plot log(loss) at order\n",
        "plt.xlabel('Polynomial Order') # always label x&y-axis\n",
        "plt.ylabel('Log Loss') # always label x&y-axis"
      ],
      "metadata": {
        "colab": {
          "base_uri": "https://localhost:8080/",
          "height": 296
        },
        "id": "ncrF2bYs-Jzk",
        "outputId": "e5b95c90-cf41-4f98-a5e5-22764cf917c5"
      },
      "execution_count": 13,
      "outputs": [
        {
          "output_type": "execute_result",
          "data": {
            "text/plain": [
              "Text(0, 0.5, 'Log Loss')"
            ]
          },
          "metadata": {},
          "execution_count": 13
        },
        {
          "output_type": "display_data",
          "data": {
            "text/plain": [
              "<Figure size 432x288 with 1 Axes>"
            ],
            "image/png": "[encoded data removed]"
          },
          "metadata": {
            "needs_background": "light"
          }
        }
      ]
    },
    {
      "cell_type": "code",
      "source": [
        "plt.plot(all_loss, 'bo-') # plot log(loss) at order\n",
        "plt.xlabel('Polynomial Order') # always label x&y-axis\n",
        "plt.ylabel('Loss') # always label x&y-axis"
      ],
      "metadata": {
        "colab": {
          "base_uri": "https://localhost:8080/",
          "height": 296
        },
        "id": "0yRRguJQ-KL7",
        "outputId": "64f08a8d-8600-4d04-d6f5-6393685d90a1"
      },
      "execution_count": 14,
      "outputs": [
        {
          "output_type": "execute_result",
          "data": {
            "text/plain": [
              "Text(0, 0.5, 'Loss')"
            ]
          },
          "metadata": {},
          "execution_count": 14
        },
        {
          "output_type": "display_data",
          "data": {
            "text/plain": [
              "<Figure size 432x288 with 1 Axes>"
            ],
            "image/png": "[encoded data removed]"
          },
          "metadata": {
            "needs_background": "light"
          }
        }
      ]
    },
    {
      "cell_type": "markdown",
      "source": [
        "[Why not Mean Squared Error(MSE) as a loss function for Logistic Regression? 🤔](https://towardsdatascience.com/why-not-mse-as-a-loss-function-for-logistic-regression-589816b5e03c)"
      ],
      "metadata": {
        "id": "ui64uXjSD8aH"
      }
    },
    {
      "cell_type": "markdown",
      "source": [
        "### Task 4: Cross-Validation for Polynomial order on new data"
      ],
      "metadata": {
        "id": "ahAYljhgtEum"
      }
    },
    {
      "cell_type": "code",
      "source": [
        "np.random.seed(1) # fix random seed such that every time we get the same random numbers\n",
        "\n",
        "N = 100 # total number of data points \n",
        "x = 10*np.random.rand(N,1) - 5 # generate random x\n",
        "t = 5*x**3 - x**2 + x + 200*np.random.randn(N,1) # generate t according to the true model with additive noise\n",
        "\n",
        "N_independent_test = 50 # total number of independent testing data points \n",
        "x_independent_test = 10*np.random.rand(N_independent_test,1) - 5 # generate independent testing x\n",
        "t_independent_test = 5*x_independent_test**3 - x_independent_test**2 + x_independent_test + 200*np.random.randn(N_independent_test,1) # generate independent testing t with noise"
      ],
      "metadata": {
        "id": "DiwmOpOq-NkD"
      },
      "execution_count": 15,
      "outputs": []
    },
    {
      "cell_type": "markdown",
      "source": [
        "### Plot new data."
      ],
      "metadata": {
        "id": "9KY1MyDYtGw_"
      }
    },
    {
      "cell_type": "code",
      "source": [
        "plt.plot(x, t, 'ro')\n",
        "plt.xlabel('x')\n",
        "plt.ylabel('t')"
      ],
      "metadata": {
        "colab": {
          "base_uri": "https://localhost:8080/",
          "height": 296
        },
        "id": "ta4_UcHU-Yl2",
        "outputId": "531f9540-d6f0-437d-ed94-ea28ce0ab6ac"
      },
      "execution_count": 16,
      "outputs": [
        {
          "output_type": "execute_result",
          "data": {
            "text/plain": [
              "Text(0, 0.5, 't')"
            ]
          },
          "metadata": {},
          "execution_count": 16
        },
        {
          "output_type": "display_data",
          "data": {
            "text/plain": [
              "<Figure size 432x288 with 1 Axes>"
            ],
            "image/png": "[encoded data removed]"
          },
          "metadata": {
            "needs_background": "light"
          }
        }
      ]
    },
    {
      "cell_type": "markdown",
      "source": [
        "#### Task 4.1: Redo Cross-Validation for Polynomial order on new data. Plot CV loss, training loss, and loss on the independent test set"
      ],
      "metadata": {
        "id": "mXBj3xEruG0H"
      }
    },
    {
      "cell_type": "code",
      "source": [
        "cv = KFold(n_splits = 10)\n",
        "reg = LinearRegression() # model for CV\n",
        "reg_train = LinearRegression() # model for loss on training and independent test \n",
        "\n",
        "all_loss = []\n",
        "all_loss_trian = []\n",
        "all_loss_independent_test = []\n",
        "\n",
        "for i in range(9):  # 1st for loop over polynomial order\n",
        "    \n",
        "    poly_order = i \n",
        "    \n",
        "   \n",
        "    X_train = make_polynomial(x, poly_order) # construct polynomial matrix for all training data\n",
        "    reg_train.fit(X_train, t) # fit model on all training data\n",
        "    all_loss_trian.append(  np.mean(( t - reg_train.predict(X_train))**2)) # collect training loss\n",
        "    \n",
        "    X_independent_test = make_polynomial(x_independent_test, poly_order) #construct polynomial matrix for the independent test data\n",
        "    all_loss_independent_test.append(\n",
        "        np.mean(( t_independent_test - \n",
        "                 reg_train.predict(X_independent_test))**2)) # collect loss on independent test data\n",
        "    \n",
        "    loss_at_order = [] \n",
        "    for train_index, test_index in cv.split(X_train): # 2nd for loop over folds\n",
        "        X_train_cv, X_test_cv = X_train[train_index], X_train[test_index]\n",
        "        t_train_cv, t_test_cv = t[train_index], t[test_index]\n",
        "        reg.fit(X_train_cv, t_train_cv)\n",
        "        loss_at_order.append( np.mean(( t_test_cv - reg.predict(X_test_cv) )**2  ) )\n",
        "    all_loss.append(np.mean(loss_at_order)) \n",
        "\n",
        "plt.plot(np.log(all_loss), 'ro-')\n",
        "plt.plot(np.log(all_loss_trian), 'bo-')\n",
        "plt.plot(np.log(all_loss_independent_test), 'go-')\n",
        "plt.xlabel('Polynomial Order') # always label x&y-axis\n",
        "plt.ylabel('Log Loss') # always label x&y-axis"
      ],
      "metadata": {
        "colab": {
          "base_uri": "https://localhost:8080/",
          "height": 296
        },
        "id": "808XMg_h-Z3N",
        "outputId": "df1a9cc0-551d-4de3-f9f5-173ee51a47e3"
      },
      "execution_count": 17,
      "outputs": [
        {
          "output_type": "execute_result",
          "data": {
            "text/plain": [
              "Text(0, 0.5, 'Log Loss')"
            ]
          },
          "metadata": {},
          "execution_count": 17
        },
        {
          "output_type": "display_data",
          "data": {
            "text/plain": [
              "<Figure size 432x288 with 1 Axes>"
            ],
            "image/png": "[encoded data removed]"
          },
          "metadata": {
            "needs_background": "light"
          }
        }
      ]
    },
    {
      "cell_type": "markdown",
      "source": [
        "### Task 5: Polynomial Linear Regression with L2 regression.\n",
        "\n",
        "$$ \\hat{\\mathbf{w}}_{ridge} = \\underset{\\mathbf{w} }{\\mathrm{argmin}}\n",
        " \\frac{1}{N} (\\mathbf{t} - \\mathbf{X}\\mathbf{w} )^{T} (\\mathbf{t} - \\mathbf{X}\\mathbf{w} ) + \\alpha \\mathbf{w}^T \\mathbf{w}$$\n",
        "check out https://scikit-learn.org/stable/modules/generated/sklearn.linear_model.Ridge.html for `Ridge`\n",
        "check out https://scikit-learn.org/stable/modules/generated/sklearn.model_selection.GridSearchCV.html for `GridSearchCV`"
      ],
      "metadata": {
        "id": "aPXWBDOsw2qf"
      }
    },
    {
      "cell_type": "code",
      "source": [
        "from sklearn.linear_model import Ridge\n",
        "from sklearn.model_selection import GridSearchCV\n",
        "\n",
        "poly_order = 10 \n",
        "X_train = make_polynomial(x, poly_order) # construct polynomial matrix on training data\n",
        "\n",
        "x_test = np.linspace(-5,5,100)[:,None] # generate x_test for plotting\n",
        "X_test = make_polynomial(x_test, poly_order) # construct polynomial matrix on x_test\n",
        "\n",
        "ridge = Ridge() # call ridge model\n",
        "parameters = {'alpha': np.linspace(1, 10, 20)} # set out search grid for alpha\n",
        "ridge_model = GridSearchCV(ridge, parameters, scoring = 'neg_mean_squared_error', cv=5) # Define CV on the search grid to define alpha\n",
        "ridge_model.fit(X_train, t) # Fit training data\n",
        "\n",
        "plt.plot(x_test, ridge_model.predict(X_test)) # plot the model\n",
        "plt.scatter(x,t) # draw a scatter plot\n",
        "plt.xlabel('Years') # always label x&y-axis\n",
        "plt.ylabel('Time (seconds)') # always label x&y-axis"
      ],
      "metadata": {
        "colab": {
          "base_uri": "https://localhost:8080/",
          "height": 296
        },
        "id": "dXgXUcon-cwB",
        "outputId": "6ca2c0ac-61a7-4dab-8dce-69f824a85e4e"
      },
      "execution_count": 18,
      "outputs": [
        {
          "output_type": "execute_result",
          "data": {
            "text/plain": [
              "Text(0, 0.5, 'Time (seconds)')"
            ]
          },
          "metadata": {},
          "execution_count": 18
        },
        {
          "output_type": "display_data",
          "data": {
            "text/plain": [
              "<Figure size 432x288 with 1 Axes>"
            ],
            "image/png": "[encoded data removed]"
          },
          "metadata": {
            "needs_background": "light"
          }
        }
      ]
    }
  ]
}